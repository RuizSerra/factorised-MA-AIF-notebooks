{
 "cells": [
  {
   "cell_type": "markdown",
   "metadata": {},
   "source": [
    "# FAQ\n",
    "\n",
    "Notebook where we answer some questions about the model that may arise."
   ]
  },
  {
   "cell_type": "code",
   "execution_count": 2,
   "metadata": {},
   "outputs": [],
   "source": [
    "import torch"
   ]
  },
  {
   "cell_type": "markdown",
   "metadata": {},
   "source": [
    "### Scaling log preferences\n",
    "\n",
    "When computing the risk (observations) term in the EFE, $D_{KL}[q(\\bar o_j|u)||p^*(o_j)]$,\n",
    "we use the algebraic form $\\mathbf{\\bar o}_j (\\log \\mathbf{\\bar o}_j - \\log \\boldsymbol{\\mathsf{C}}^j)$\n",
    "(logs are always shifted by EPSILON to avoid numerical issues).\n",
    "Noting that, \n",
    "$$\n",
    "\\log \\boldsymbol{\\mathsf{C}}^j = \\log p^*(o_j) = \\mathbb{E}_{q(\\bar o_i=u_i, \\bar o_k)}[\\log p^*(o_i=u_i, o_j, o_k)]\n",
    "$$\n",
    "\n",
    "One might be concerned that we do not normalise or otherwise scale $\\log p^*(o_j)$ to be in the same \"range\" as $\\log q(\\bar o_j|u)$.\n",
    "\n",
    "The next cell shows that this is not necessary, as the relative KL divergence between the actions is invariant to scaling of the target distribution.\n",
    "The risk for each action is different if we scale the target distribution, but the **relative risk between actions is the same whether we rescale or not**."
   ]
  },
  {
   "cell_type": "code",
   "execution_count": 7,
   "metadata": {},
   "outputs": [
    {
     "name": "stdout",
     "output_type": "stream",
     "text": [
      "FIRST, AS IS ------------------------\n",
      "q(o|u)\t\t[1.0, 0.0]\n",
      "log q(o|u)\t[0.0, -20.7232666015625]\n",
      "log p*(o)\t[-2.0964999198913574, 5.599999904632568]\n",
      "Risk\t\t2.0964999198913574\n",
      "exp(log p*(o)) = p(^o)\t[0.12288578599691391, 270.4263916015625]\n",
      "log p(^o)\t[-2.0964999198913574, 5.599999904632568]\n",
      "\n",
      "q(o|u)\t\t[0.0, 1.0]\n",
      "log q(o|u)\t[-20.7232666015625, 0.0]\n",
      "log p*(o)\t[-2.0964999198913574, 5.599999904632568]\n",
      "Risk\t\t-5.599999904632568\n",
      "exp(log p*(o)) = p(^o)\t[0.12288578599691391, 270.4263916015625]\n",
      "log p(^o)\t[-2.0964999198913574, 5.599999904632568]\n",
      "\n",
      "Delta risk\t-7.696499824523926\n",
      "\n",
      "SECOND, NORMALISED ------------------------\n",
      "q(o|u)\t\t[1.0, 0.0]\n",
      "log q(o|u)\t[0.0, -20.7232666015625]\n",
      "log p*(o)\t[-7.696951866149902, -0.00045435020001605153]\n",
      "Risk\t\t7.696951866149902\n",
      "exp(log p*(o)) = p(^o)\t[0.0004542095703072846, 0.9995457530021667]\n",
      "log p(^o)\t[-7.696949481964111, -0.00045435020001605153]\n",
      "\n",
      "q(o|u)\t\t[0.0, 1.0]\n",
      "log q(o|u)\t[-20.7232666015625, 0.0]\n",
      "log p*(o)\t[-7.696951866149902, -0.00045435020001605153]\n",
      "Risk\t\t0.00045435020001605153\n",
      "exp(log p*(o)) = p(^o)\t[0.0004542095703072846, 0.9995457530021667]\n",
      "log p(^o)\t[-7.696949481964111, -0.00045435020001605153]\n",
      "\n",
      "Delta risk\t-7.696497515949886\n",
      "\n",
      "THIRD VERSION, Exponentiate and Softmax ------------------------\n",
      "C_mod (after exp): [0.0004542095703072846, 0.9995457530021667]\n",
      "C_mod (after softmax): [0.26912006735801697, 0.7308799624443054]\n",
      "log_C_modality (after log): [-1.312597632408142, -0.31350603699684143]\n",
      "q(o|u)\t\t[1.0, 0.0]\n",
      "log q(o|u)\t[0.0, -20.7232666015625]\n",
      "log p*(o)\t[-1.312597632408142, -0.31350603699684143]\n",
      "Risk\t\t1.312597632408142\n",
      "exp(log p*(o)) = p(^o)\t[0.26912006735801697, 0.7308799624443054]\n",
      "log p(^o)\t[-1.312597632408142, -0.31350603699684143]\n",
      "\n",
      "q(o|u)\t\t[0.0, 1.0]\n",
      "log q(o|u)\t[-20.7232666015625, 0.0]\n",
      "log p*(o)\t[-1.312597632408142, -0.31350603699684143]\n",
      "Risk\t\t0.31350603699684143\n",
      "exp(log p*(o)) = p(^o)\t[0.26912006735801697, 0.7308799624443054]\n",
      "log p(^o)\t[-1.312597632408142, -0.31350603699684143]\n",
      "\n",
      "Delta risk\t-0.9990915954113007\n"
     ]
    }
   ],
   "source": [
    "import torch\n",
    "\n",
    "num_actions = 2\n",
    "EPSILON = 1e-9\n",
    "log_C_modality = torch.tensor([-2.0965, 5.6])  # Assume at the current timestep the log C_modality is this\n",
    "\n",
    "def print_metrics(log_C_modality):\n",
    "    risk = []\n",
    "    for u_i in [0, 1]:\n",
    "        o_pred = torch.tensor([1.0 if i == u_i else 0.0 for i in range(num_actions)])\n",
    "        log_o_pred = torch.log(o_pred + EPSILON)\n",
    "        print('q(o|u)', o_pred.tolist(), sep='\\t\\t')\n",
    "        print('log q(o|u)', log_o_pred.tolist(), sep='\\t')\n",
    "        print('log p*(o)', log_C_modality.tolist(), sep='\\t')\n",
    "        risk.append((o_pred @ (log_o_pred - log_C_modality)).item())\n",
    "        print('Risk', risk[u_i], sep='\\t\\t')\n",
    "        \n",
    "        # Compute exp(log C_modality) and log p(^o)\n",
    "        exp_log_C_modality = torch.exp(log_C_modality)\n",
    "        print('exp(log p*(o)) = p(^o)', exp_log_C_modality.tolist(), sep='\\t')\n",
    "        \n",
    "        log_p_hat_o = torch.log(exp_log_C_modality + EPSILON)\n",
    "        print('log p(^o)', log_p_hat_o.tolist(), sep='\\t')\n",
    "        \n",
    "        print()\n",
    "        \n",
    "    print('Delta risk', risk[1] - risk[0], sep='\\t')\n",
    "\n",
    "\n",
    "print('FIRST, AS IS ------------------------')\n",
    "print_metrics(log_C_modality)\n",
    "\n",
    "print('\\nSECOND, NORMALISED ------------------------')\n",
    "C_mod = torch.softmax(log_C_modality, dim=0)\n",
    "log_C_modality = torch.log(C_mod + EPSILON)  # cf. LogSumExp\n",
    "print_metrics(log_C_modality)\n",
    "\n",
    "\n",
    "# THIRD VERSION: Exponential of log_C, then softmax, and then log if necessary\n",
    "print('\\nTHIRD VERSION, Exponentiate and Softmax ------------------------')\n",
    "C_mod = torch.exp(log_C_modality)  # Step 1: Exponentiate to get C from log_C\n",
    "print(\"C_mod (after exp):\", C_mod.tolist())\n",
    "\n",
    "C_mod = torch.softmax(C_mod, dim=0)  # Step 2: Apply softmax to C\n",
    "print(\"C_mod (after softmax):\", C_mod.tolist())\n",
    "\n",
    "log_C_modality = torch.log(C_mod + EPSILON)  # Step 3: Take the log of softmax'ed C\n",
    "print(\"log_C_modality (after log):\", log_C_modality.tolist())\n",
    "\n",
    "print_metrics(log_C_modality)"
   ]
  },
  {
   "cell_type": "code",
   "execution_count": 13,
   "metadata": {},
   "outputs": [
    {
     "data": {
      "image/png": "[encoded data removed]",
      "text/plain": [
       "<Figure size 640x480 with 3 Axes>"
      ]
     },
     "metadata": {},
     "output_type": "display_data"
    },
    {
     "data": {
      "text/plain": [
       "(tensor([[3., 1.],\n",
       "         [4., 2.]]),\n",
       " tensor([[0.2369, 0.0321],\n",
       "         [0.6439, 0.0871]]),\n",
       " tensor([[-1.4402, -3.4402],\n",
       "         [-0.4402, -2.4402]]))"
      ]
     },
     "execution_count": 13,
     "metadata": {},
     "output_type": "execute_result"
    }
   ],
   "source": [
    "import matplotlib.pyplot as plt\n",
    "import sys\n",
    "sys.path.append('..')\n",
    "from games import *\n",
    "\n",
    "log_C = prisoners_dilemma_2player\n",
    "\n",
    "#Format log_C into a legit probability distribution\n",
    "flattened_C = torch.softmax(log_C.flatten(), dim=0)\n",
    "C = flattened_C.view_as(log_C)\n",
    "log_C_new = torch.log(C)\n",
    "assert torch.isclose(\n",
    "        torch.exp(log_C_new).sum(), \n",
    "        torch.tensor(1.0), \n",
    "        atol=1e-6), (\n",
    "    \"The sum of exponentiated values of log C is not 1.\"\n",
    ")\n",
    "\n",
    "# Plot\n",
    "fig, axs = plt.subplots(1, 3)\n",
    "axs[0].imshow(log_C)\n",
    "axs[0].set_title('log C')\n",
    "axs[1].imshow(C)\n",
    "axs[1].set_title('C')\n",
    "axs[2].imshow(log_C_new)\n",
    "axs[2].set_title('log C new')\n",
    "plt.show()\n",
    "\n",
    "log_C, C, log_C_new"
   ]
  },
  {
   "cell_type": "markdown",
   "metadata": {},
   "source": [
    "## Novelty"
   ]
  },
  {
   "cell_type": "code",
   "execution_count": 29,
   "metadata": {},
   "outputs": [
    {
     "name": "stdout",
     "output_type": "stream",
     "text": [
      "tensor([[[0.9820, 0.0180],\n",
      "         [0.0180, 0.9820]],\n",
      "\n",
      "        [[0.9820, 0.0180],\n",
      "         [0.0180, 0.9820]]])\n"
     ]
    },
    {
     "data": {
      "text/plain": [
       "tensor(26.7926)"
      ]
     },
     "execution_count": 29,
     "metadata": {},
     "output_type": "execute_result"
    }
   ],
   "source": [
    "import torch\n",
    "\n",
    "## Scaffold\n",
    "num_actions = 2\n",
    "num_agents = 2\n",
    "EPSILON = torch.finfo().eps\n",
    "A_params = torch.stack([torch.eye(num_actions) for _ in range(num_agents)]) + EPSILON  # Identity observation model prior\n",
    "\n",
    "# A_params += 0.1\n",
    "A_params = torch.softmax(4*A_params, dim=2)\n",
    "print(A_params)\n",
    "A = A_params / A_params.sum(dim=1, keepdim=True)\n",
    "\n",
    "q_s_u = torch.tensor([\n",
    "    [0.43, 0.57],\n",
    "    [0.57, 0.43]\n",
    "])\n",
    "\n",
    "#############\n",
    "novelty = 0\n",
    "# Da Costa et al. (2020; Eq. D.17)\n",
    "W = 0.5 * (1/A_params - 1/A_params.sum(dim=1, keepdim=True))\n",
    "for factor_idx in range(num_agents):\n",
    "    s_pred = q_s_u[factor_idx]\n",
    "    novelty += torch.dot(\n",
    "        A[factor_idx] @ s_pred, \n",
    "        W[factor_idx] @ s_pred)\n",
    "novelty"
   ]
  },
  {
   "cell_type": "markdown",
   "metadata": {},
   "source": [
    "## BMR"
   ]
  },
  {
   "cell_type": "code",
   "execution_count": 50,
   "metadata": {},
   "outputs": [
    {
     "name": "stdout",
     "output_type": "stream",
     "text": [
      "tensor([[[[1.0100, 1.0300],\n",
      "          [1.0300, 1.3100]],\n",
      "\n",
      "         [[1.0100, 1.0300],\n",
      "          [1.0300, 1.3100]]],\n",
      "\n",
      "\n",
      "        [[[1.3400, 1.0200],\n",
      "          [1.0200, 1.0000]],\n",
      "\n",
      "         [[1.3400, 1.0200],\n",
      "          [1.0200, 1.0000]]]])\n",
      "tensor([[[[0.2391, 0.2415],\n",
      "          [0.2415, 0.2778]],\n",
      "\n",
      "         [[0.2391, 0.2415],\n",
      "          [0.2415, 0.2778]]],\n",
      "\n",
      "\n",
      "        [[[0.2819, 0.2402],\n",
      "          [0.2402, 0.2378]],\n",
      "\n",
      "         [[0.2819, 0.2402],\n",
      "          [0.2402, 0.2378]]]])\n"
     ]
    }
   ],
   "source": [
    "import torch.nn.functional as F\n",
    "\n",
    "num_agents = 2\n",
    "num_actions = 2\n",
    "\n",
    "# Scaffolding\n",
    "B_posterior_params = torch.tensor([\n",
    "    [[  # Factor i -------------\n",
    "        [1.01, 1.03],    # u = 0\n",
    "        [1.03, 1.35]],\n",
    "    [\n",
    "        [1.01, 1.03],    # u = 1\n",
    "        [1.03, 1.35]]],\n",
    "\n",
    "    [[  # Factor j -------------\n",
    "        [1.38, 1.02],    # u = 0\n",
    "        [1.02, 1.00]],\n",
    "    [\n",
    "        [1.38, 1.02],    # u = 1\n",
    "        [1.02, 1.00]]]\n",
    "])\n",
    "\n",
    "B_params = torch.tensor([[[[1.01, 1.03],\n",
    "          [1.03, 1.31]],\n",
    "\n",
    "         [[1.01, 1.03],\n",
    "          [1.03, 1.31]]],\n",
    "\n",
    "\n",
    "        [[[1.34, 1.02],\n",
    "          [1.02, 1.00]],\n",
    "\n",
    "         [[1.34, 1.02],\n",
    "          [1.02, 1.00]]]])\n",
    "\n",
    "print(B_params)\n",
    "B_reduced = F.softmax(0.5*B_params.view(num_agents, num_actions, -1), dim=-1).view_as(B_params)\n",
    "print(B_reduced)"
   ]
  },
  {
   "cell_type": "code",
   "execution_count": 63,
   "metadata": {},
   "outputs": [
    {
     "data": {
      "text/plain": [
       "tensor([[-0.0004, -0.0004],\n",
       "        [-0.0004, -0.0004]])"
      ]
     },
     "execution_count": 63,
     "metadata": {},
     "output_type": "execute_result"
    }
   ],
   "source": [
    "B_prior = B_params / B_params.sum(dim=2, keepdim=True)\n",
    "B_posterior = B_posterior_params / B_posterior_params.sum(dim=2, keepdim=True)\n",
    "\n",
    "# Expected value (under B_posterior) of the ratio of the reduced to the prior\n",
    "torch.log(\n",
    "    torch.einsum(\n",
    "        'funk,funk->fu',\n",
    "        B_posterior,\n",
    "        B_reduced / B_prior\n",
    "        # B_prior / B_reduced\n",
    "    )\n",
    ")"
   ]
  },
  {
   "cell_type": "code",
   "execution_count": 59,
   "metadata": {},
   "outputs": [
    {
     "data": {
      "text/plain": [
       "tensor(0.9996)"
      ]
     },
     "execution_count": 59,
     "metadata": {},
     "output_type": "execute_result"
    }
   ],
   "source": [
    "(B_reduced[0, 0].flatten() / B_prior[0, 0].flatten()) @ B_posterior[0, 0].flatten()"
   ]
  }
 ],
 "metadata": {
  "kernelspec": {
   "display_name": "mesa-abm",
   "language": "python",
   "name": "python3"
  },
  "language_info": {
   "codemirror_mode": {
    "name": "ipython",
    "version": 3
   },
   "file_extension": ".py",
   "mimetype": "text/x-python",
   "name": "python",
   "nbconvert_exporter": "python",
   "pygments_lexer": "ipython3",
   "version": "3.12.1"
  }
 },
 "nbformat": 4,
 "nbformat_minor": 2
}
